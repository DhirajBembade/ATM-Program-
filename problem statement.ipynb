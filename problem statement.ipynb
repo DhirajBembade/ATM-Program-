{
  "cells": [
    {
      "cell_type": "markdown",
      "metadata": {
        "id": "view-in-github",
        "colab_type": "text"
      },
      "source": [
        "<a href=\"https://colab.research.google.com/github/DhirajBembade/ATM-Program-/blob/main/problem%20statement.ipynb\" target=\"_parent\"><img src=\"https://colab.research.google.com/assets/colab-badge.svg\" alt=\"Open In Colab\"/></a>"
      ]
    },
    {
      "cell_type": "markdown",
      "metadata": {
        "id": "Ty7wHft8cVKq"
      },
      "source": [
        "ATM System (Command line)\n",
        "\n",
        "Enter your card valid card check all are numbers? ---> (Take inputs)\n",
        "\n",
        "1. **Display menu(Withdrawal, saving, current, other)**\n",
        "\n",
        "2. **Other**\n",
        "\n",
        "a. PIN change, Block card\n",
        "\n",
        "3. **Withdrawal**\n",
        "\n",
        "a. Enter the amount to withdrawal in terms of 200 RS\n",
        "\n",
        "b. Check balance info\n",
        "\n",
        "c. If balance low then display Error message (Low balance)\n",
        "\n",
        "d. exit()\n",
        "\n",
        "e. Thank you\n",
        "\n",
        "Else:\n",
        "\n",
        " Update the remaining balance\n",
        "\n",
        "Write the balance in file.csv (name, account number, balance account type)\n",
        "\n",
        "Display message of successful transaction\n",
        "\n",
        "exit()\n",
        "\n",
        "4. **PIN Exchange**\n",
        "\n",
        "a. Enter card number\n",
        "\n",
        "b. Enter the OTP\n",
        "\n",
        "c. Validate the OTP and mobile number\n",
        "\n",
        "d. Update the pin (as of now write it in csv file)file.csv (name, account number,\n",
        "\n",
        "balance account type, PIN)\n",
        "\n",
        "e. Display message of successful pin change\n",
        "\n",
        "f. Exit()\n",
        "\n",
        "5. **Block Card**\n",
        "\n",
        "a. Enter card number\n",
        "\n",
        "b. Enter the OTP\n",
        "\n",
        "c. Validate the OTP and mobile number\n",
        "\n",
        "d. Update the access field in csv to BLOCK ile.csv (name, account number, balance\n",
        "account type, PIN, access)\n",
        "\n",
        "e. Display successful message\n",
        "\n",
        "f. exit\n",
        "\n",
        "---\n",
        "\n"
      ]
    }
  ],
  "metadata": {
    "colab": {
      "provenance": [],
      "authorship_tag": "ABX9TyMfW0H/N7YrGSi1ZYek5/PM",
      "include_colab_link": true
    },
    "kernelspec": {
      "display_name": "Python 3",
      "name": "python3"
    },
    "language_info": {
      "name": "python"
    }
  },
  "nbformat": 4,
  "nbformat_minor": 0
}